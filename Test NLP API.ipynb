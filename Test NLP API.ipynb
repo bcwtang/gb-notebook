{
 "cells": [
  {
   "cell_type": "code",
   "execution_count": 22,
   "metadata": {},
   "outputs": [
    {
     "data": {
      "text/plain": [
       "{'prediction': 'Positive', 'confidence': 0.609}"
      ]
     },
     "execution_count": 22,
     "metadata": {},
     "output_type": "execute_result"
    }
   ],
   "source": [
    "## Movie review NLP Model \n",
    "\n",
    "import requests\n",
    "\n",
    "#url = 'http://127.0.0.1:8000/'\n",
    "url = 'https://test-nlp-model.herokuapp.com/'\n",
    "params ={'query': 'If you are looking for a tough, gritty film about misogyny, lust, murder, rape and revenge, then The Nightingale fits the bill.'}\n",
    "response = requests.get(url, params)\n",
    "response.json()"
   ]
  },
  {
   "cell_type": "code",
   "execution_count": 28,
   "metadata": {},
   "outputs": [
    {
     "data": {
      "text/plain": [
       "{'prediction': 'Positive', 'confidence': 0.771}"
      ]
     },
     "execution_count": 28,
     "metadata": {},
     "output_type": "execute_result"
    }
   ],
   "source": [
    "## Fashion Review \n",
    "\n",
    "import requests\n",
    "url = 'http://127.0.0.1:8000/'\n",
    "##url = 'https://test-nlp-model.herokuapp.com/'\n",
    "params ={'query': 'the dress looks horrible'}\n",
    "response = requests.get(url, params)\n",
    "response.json()"
   ]
  }
 ],
 "metadata": {
  "kernelspec": {
   "display_name": "Python 3",
   "language": "python",
   "name": "python3"
  },
  "language_info": {
   "codemirror_mode": {
    "name": "ipython",
    "version": 3
   },
   "file_extension": ".py",
   "mimetype": "text/x-python",
   "name": "python",
   "nbconvert_exporter": "python",
   "pygments_lexer": "ipython3",
   "version": "3.7.4"
  }
 },
 "nbformat": 4,
 "nbformat_minor": 2
}
