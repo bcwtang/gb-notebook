{
 "cells": [
  {
   "cell_type": "code",
   "execution_count": 1,
   "metadata": {},
   "outputs": [],
   "source": [
    "# import spacys\n",
    "from sklearn.metrics import roc_curve, auc\n",
    "import matplotlib.pyplot as plt\n",
    "\n",
    "# nlp = spacy.load('en')\n",
    "\n",
    "\n",
    "# def spacy_tok(text, lemmatize=False):\n",
    "#     doc = nlp(text)\n",
    "#     if lemmatize:\n",
    "#         tokens = [tok.lemma_ for tok in doc]\n",
    "#     else:\n",
    "#         tokens = [tok.text for tok in doc]\n",
    "#     return tokens\n",
    "\n",
    "\n",
    "def plot_roc(model, x_columns, y_true, size_x=12, size_y=12):\n",
    "    \"\"\"Returns a ROC plot\n",
    "    Forked from Matt Drury.\n",
    "    \"\"\"\n",
    "\n",
    "    y_pred = model.predict_proba(x_columns)\n",
    "\n",
    "    fpr, tpr, threshold = roc_curve(y_true, y_pred[:, 1])\n",
    "    area_under_curve = auc(fpr, tpr)\n",
    "\n",
    "    # method I: plt\n",
    "    fig, ax = plt.subplots(figsize=(size_x, size_y))\n",
    "    model_name = str(type(model)).split('.')[-1].strip(\">\\'\")\n",
    "    plt.title(f'{model_name} ROC')\n",
    "    ax.plot(fpr, tpr, 'k', label='AUC = %0.3f' % area_under_curve)\n",
    "\n",
    "    ax.legend(loc='lower right')\n",
    "    ax.plot([0, 1], [0, 1], 'r--')\n",
    "    plt.xlim([0, 1])\n",
    "    plt.ylim([0, 1])\n",
    "    plt.ylabel('True Positive Rate')\n",
    "    plt.xlabel('False Positive Rate')\n",
    "    plt.show()"
   ]
  }
 ],
 "metadata": {
  "kernelspec": {
   "display_name": "Python 3",
   "language": "python",
   "name": "python3"
  },
  "language_info": {
   "codemirror_mode": {
    "name": "ipython",
    "version": 3
   },
   "file_extension": ".py",
   "mimetype": "text/x-python",
   "name": "python",
   "nbconvert_exporter": "python",
   "pygments_lexer": "ipython3",
   "version": "3.7.2"
  }
 },
 "nbformat": 4,
 "nbformat_minor": 2
}
