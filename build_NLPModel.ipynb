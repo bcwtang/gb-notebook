{
 "cells": [
  {
   "cell_type": "code",
   "execution_count": 1,
   "metadata": {},
   "outputs": [
    {
     "name": "stderr",
     "output_type": "stream",
     "text": [
      "/usr/local/lib/python3.7/site-packages/ipykernel_launcher.py:23: SettingWithCopyWarning: \n",
      "A value is trying to be set on a copy of a slice from a DataFrame.\n",
      "Try using .loc[row_indexer,col_indexer] = value instead\n",
      "\n",
      "See the caveats in the documentation: http://pandas.pydata.org/pandas-docs/stable/indexing.html#indexing-view-versus-copy\n"
     ]
    },
    {
     "name": "stdout",
     "output_type": "stream",
     "text": [
      "Vectorizer fit transform complete\n",
      "Model training complete\n",
      "Pickled classifier at lib/models/SentimentClassifier.pkl\n",
      "Pickled vectorizer at lib/models/TFIDFVectorizer.pkl\n"
     ]
    }
   ],
   "source": [
    "from model import NLPModel\n",
    "import pandas as pd\n",
    "from sklearn.model_selection import train_test_split\n",
    "\n",
    "'''\n",
    "Create the model object\n",
    "The NLP model object uses a Naive Bayes classifier and a TFIDF vectorizer:\n",
    "self.clf = MultinomialNB()\n",
    "self.vectorizer = TfidfVectorizer()\n",
    "'''\n",
    "\n",
    "def build_model():\n",
    "    model = NLPModel()\n",
    "    with open ('data/train.tsv') as f:\n",
    "        data = pd.read_csv(f, sep='\\t')\n",
    "    \n",
    "    # Use only the 1 star and 5 star reviews\n",
    "    # For this example, we want to only predict positive or negative sentiment using the extreme cases.\n",
    "    pos_neg = data[(data['Sentiment']==0) | (data['Sentiment']==4)]\n",
    "    \n",
    "    ## Relabel as 0 for negative and 1 for positive¶\n",
    "    pos_neg['Binary'] = pos_neg.apply(\n",
    "        lambda x: 0 if x['Sentiment'] == 0 else 1, axis=1)\n",
    "    \n",
    "    #Fit a vectorizer to the vocabulary in the dataset\n",
    "    #pos_neg.loc[:, 'Phrase']\n",
    "        \n",
    "    X = model.vectorizer_fit_transform(pos_neg.loc[:, 'Phrase'])\n",
    "    print('Vectorizer fit transform complete')\n",
    "    \n",
    "    y = pos_neg.loc[:, 'Binary']\n",
    "    \n",
    "    # split X and y into training and testing sets\n",
    "    # by default, it splits 75% training and 25% test\n",
    "    # random_state=1 for reproducibility\n",
    "    X_train, X_test, y_train, y_test = train_test_split(X, y, random_state=1)\n",
    "    #print(X_train.shape)\n",
    "    #print(X_test.shape)\n",
    "    #print(y_train.shape)\n",
    "    #print(y_test.shape)\n",
    "    model.train(X_train, y_train)\n",
    "    print('Model training complete')\n",
    "        \n",
    "    model.pickle_clf()\n",
    "    model.pickle_vectorizer()\n",
    "\n",
    "        \n",
    "if __name__ == \"__main__\":\n",
    "    build_model()"
   ]
  },
  {
   "cell_type": "code",
   "execution_count": null,
   "metadata": {},
   "outputs": [],
   "source": []
  }
 ],
 "metadata": {
  "kernelspec": {
   "display_name": "Python 3",
   "language": "python",
   "name": "python3"
  },
  "language_info": {
   "codemirror_mode": {
    "name": "ipython",
    "version": 3
   },
   "file_extension": ".py",
   "mimetype": "text/x-python",
   "name": "python",
   "nbconvert_exporter": "python",
   "pygments_lexer": "ipython3",
   "version": "3.7.2"
  }
 },
 "nbformat": 4,
 "nbformat_minor": 2
}
